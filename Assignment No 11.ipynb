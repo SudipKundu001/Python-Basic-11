{
 "cells": [
  {
   "cell_type": "markdown",
   "id": "60fd5595",
   "metadata": {},
   "source": [
    ">__1. Create an assert statement that throws an AssertionError if the variable spam is a negative integer.__"
   ]
  },
  {
   "cell_type": "markdown",
   "id": "4d7333c9",
   "metadata": {},
   "source": [
    "Ans. &nbsp; assert spam >= 1, 'The spam variable is less than 1.'"
   ]
  },
  {
   "cell_type": "markdown",
   "id": "389e2c98",
   "metadata": {},
   "source": [
    ">__2. Write an assert statement that triggers an AssertionError if the variables eggs and bacon contain strings that are the same as each other, even if their cases are different (that is, 'hello' and 'hello' are considered the same, and 'goodbye' and 'GOODbye' are also considered the same).__"
   ]
  },
  {
   "cell_type": "markdown",
   "id": "9ced7e7b",
   "metadata": {},
   "source": [
    "Ans. assert eggs.lower() != bacon.lower(), 'The eggs and bacon variables are the same!' &emsp; or<br> &emsp;&emsp;&nbsp;assert eggs.upper() != bacon.upper(), 'The eggs and bacon variables are the same!'"
   ]
  },
  {
   "cell_type": "markdown",
   "id": "209805cb",
   "metadata": {},
   "source": [
    ">__3. Create an assert statement that throws an AssertionError every time.__"
   ]
  },
  {
   "cell_type": "code",
   "execution_count": 2,
   "id": "6adc66f9",
   "metadata": {},
   "outputs": [
    {
     "ename": "AssertionError",
     "evalue": "The assertion always triggers.",
     "output_type": "error",
     "traceback": [
      "\u001b[1;31m---------------------------------------------------------------------------\u001b[0m",
      "\u001b[1;31mAssertionError\u001b[0m                            Traceback (most recent call last)",
      "\u001b[1;32m<ipython-input-2-b2319dc3921a>\u001b[0m in \u001b[0;36m<module>\u001b[1;34m\u001b[0m\n\u001b[1;32m----> 1\u001b[1;33m \u001b[1;32massert\u001b[0m \u001b[1;32mFalse\u001b[0m\u001b[1;33m,\u001b[0m \u001b[1;34m'The assertion always triggers.'\u001b[0m\u001b[1;33m\u001b[0m\u001b[1;33m\u001b[0m\u001b[0m\n\u001b[0m",
      "\u001b[1;31mAssertionError\u001b[0m: The assertion always triggers."
     ]
    }
   ],
   "source": [
    "assert False, 'The assertion always triggers.'"
   ]
  },
  {
   "cell_type": "markdown",
   "id": "a6d838e3",
   "metadata": {},
   "source": [
    ">__4. What are the two lines that must be present in your software in order to call logging.debug()?__"
   ]
  },
  {
   "cell_type": "markdown",
   "id": "0f9e989f",
   "metadata": {},
   "source": [
    "Ans.  To be able to call logging.debug(), you must have these two lines at the start ofyour program:\n",
    "\n",
    "import logging<br>\n",
    "logging.basicConfig(level=logging.DEBUG, format=' %(asctime)s -<br>\n",
    "%(levelname)s - %(message)s')"
   ]
  },
  {
   "cell_type": "markdown",
   "id": "52ec45c9",
   "metadata": {},
   "source": [
    ">__5. What are the two lines that your program must have in order to have logging.debug() send a logging message to a file named programLog.txt?__"
   ]
  },
  {
   "cell_type": "markdown",
   "id": "8e68fd71",
   "metadata": {},
   "source": [
    "Ans.  To be able to send logging message to a file named programLog.txt with logging.debug(), you must have these two lines at the start of your:\n",
    "\n",
    "import logging\n",
    "<p> >>> logging.basicConfig(filename='programLog.txt', <br>\n",
    "level=logging.DEBUG, <br>\n",
    "format=' %(asctime)s - %(levelname)s - %(message)s')</p>"
   ]
  },
  {
   "cell_type": "markdown",
   "id": "d11c2bc1",
   "metadata": {},
   "source": [
    ">__6. What are the five levels of logging?__"
   ]
  },
  {
   "cell_type": "markdown",
   "id": "7f05ad30",
   "metadata": {},
   "source": [
    "Ans. &nbsp; DEBUG, INFO, WARNING, ERROR, and CRITICAL"
   ]
  },
  {
   "cell_type": "markdown",
   "id": "94fbacbc",
   "metadata": {},
   "source": [
    ">__7. What line of code would you add to your software to disable all logging messages?__"
   ]
  },
  {
   "cell_type": "markdown",
   "id": "33f1b823",
   "metadata": {},
   "source": [
    "Ans. &nbsp; logging.disable(logging.CRITICAL)"
   ]
  },
  {
   "cell_type": "markdown",
   "id": "48c28be4",
   "metadata": {},
   "source": [
    ">__8.Why is using logging messages better than using print() to display the same message?__"
   ]
  },
  {
   "cell_type": "markdown",
   "id": "d45b4a87",
   "metadata": {},
   "source": [
    "Ans.  You can disable logging messages without removing the logging function calls. You can selectively disable lower-level logging messages. You can create logging messages. Logging messages provides a timestamp."
   ]
  },
  {
   "cell_type": "markdown",
   "id": "358afb08",
   "metadata": {},
   "source": [
    ">__9. What are the differences between the Step Over, Step In, and Step Out buttons in the debugger?__"
   ]
  },
  {
   "cell_type": "markdown",
   "id": "8f3308bf",
   "metadata": {},
   "source": [
    "Ans.  The Step button will move the debugger into a function call.<br> &emsp;&emsp; The Over button will quickly execute the function call without stepping into it.<br> &emsp;&emsp; The Out button will quickly execute the rest of the code until it steps out of the function it currently is in"
   ]
  },
  {
   "cell_type": "markdown",
   "id": "34f8028d",
   "metadata": {},
   "source": [
    ">__10.After you click Continue, when will the debugger stop ?__"
   ]
  },
  {
   "cell_type": "markdown",
   "id": "11f8bf4c",
   "metadata": {},
   "source": [
    "Ans. After you click Continue, the debugger will stop when it has reached the end of the program or a line with a breakpoint."
   ]
  },
  {
   "cell_type": "markdown",
   "id": "0ca6acfb",
   "metadata": {},
   "source": [
    ">__11. What is the concept of a breakpoint?__"
   ]
  },
  {
   "cell_type": "markdown",
   "id": "2d0b8c31",
   "metadata": {},
   "source": [
    "Ans.  A breakpoint is a setting on a line of code that causes the debugger to pause when the program execution reaches the line."
   ]
  }
 ],
 "metadata": {
  "kernelspec": {
   "display_name": "Python 3",
   "language": "python",
   "name": "python3"
  },
  "language_info": {
   "codemirror_mode": {
    "name": "ipython",
    "version": 3
   },
   "file_extension": ".py",
   "mimetype": "text/x-python",
   "name": "python",
   "nbconvert_exporter": "python",
   "pygments_lexer": "ipython3",
   "version": "3.8.8"
  }
 },
 "nbformat": 4,
 "nbformat_minor": 5
}
